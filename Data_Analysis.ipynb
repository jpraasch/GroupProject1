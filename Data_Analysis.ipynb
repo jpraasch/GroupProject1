{
 "cells": [
  {
   "cell_type": "code",
   "execution_count": null,
   "metadata": {},
   "outputs": [],
   "source": [
    "#Project Template"
   ]
  },
  {
   "cell_type": "code",
   "execution_count": null,
   "metadata": {},
   "outputs": [],
   "source": [
    "#Dependancies\n",
    "import pandas as pd\n",
    "import datetime\n",
    "import numpy as np\n",
    "from matplotlib import pyplot as plt\n",
    "from scipy.stats import linregress\n",
    "import scipy.stats as stats"
   ]
  },
  {
   "cell_type": "code",
   "execution_count": null,
   "metadata": {},
   "outputs": [],
   "source": [
    "#Data Cleaning (Joe and Anthony)"
   ]
  },
  {
   "cell_type": "markdown",
   "metadata": {},
   "source": [
    "# Joe"
   ]
  },
  {
   "cell_type": "code",
   "execution_count": null,
   "metadata": {},
   "outputs": [],
   "source": [
    "#Cleaning the pollution csv"
   ]
  },
  {
   "cell_type": "code",
   "execution_count": null,
   "metadata": {},
   "outputs": [],
   "source": [
    "file = \"dataset/cleanpollution2011-2016.csv\""
   ]
  },
  {
   "cell_type": "code",
   "execution_count": null,
   "metadata": {
    "scrolled": false
   },
   "outputs": [],
   "source": [
    "#look at the file\n",
    "df = pd.read_csv(file)\n",
    "df.head()"
   ]
  },
  {
   "cell_type": "code",
   "execution_count": null,
   "metadata": {
    "scrolled": false
   },
   "outputs": [],
   "source": [
    "#Filter the date range I want (2014-2016)\n",
    "date_df = df.loc[(df['Date Local'] > '2013-12-31')]\n",
    "\n",
    "date_df.head()"
   ]
  },
  {
   "cell_type": "code",
   "execution_count": null,
   "metadata": {},
   "outputs": [],
   "source": [
    "#Pulling out the states I want\n",
    "statecities_df = date_df\n",
    "state_list =['California', 'Texas', 'Florida','New Jersey','Illinois', 'Colorado', 'North Carolina']\n"
   ]
  },
  {
   "cell_type": "code",
   "execution_count": null,
   "metadata": {},
   "outputs": [],
   "source": [
    "#Filtered the States\n",
    "statecities_df[statecities_df.State.isin(state_list)]"
   ]
  },
  {
   "cell_type": "code",
   "execution_count": null,
   "metadata": {},
   "outputs": [],
   "source": [
    "#Filtering the Cities\n",
    "city_list = ['Los Angeles', 'Dallas', 'Winter Park', 'Newark', 'Chicago', 'Denver', 'Charlotte']"
   ]
  },
  {
   "cell_type": "code",
   "execution_count": null,
   "metadata": {},
   "outputs": [],
   "source": [
    "statecities_df[statecities_df.City.isin(city_list)]"
   ]
  },
  {
   "cell_type": "code",
   "execution_count": null,
   "metadata": {},
   "outputs": [],
   "source": [
    "#remove duplicate readings as the data summary nevere clears up why there is multiple readings"
   ]
  },
  {
   "cell_type": "code",
   "execution_count": null,
   "metadata": {},
   "outputs": [],
   "source": [
    "cleanstatecities_df = statecities_df\n",
    "# .drop_duplicates(subset ='Date Local', keep = 'first')"
   ]
  },
  {
   "cell_type": "code",
   "execution_count": null,
   "metadata": {},
   "outputs": [],
   "source": [
    "cleanstatecities_df"
   ]
  },
  {
   "cell_type": "code",
   "execution_count": null,
   "metadata": {},
   "outputs": [],
   "source": [
    "cleanstatecities_df.to_csv (\"dataset/cleanpollution14-2016.csv\", index=False, header=True)\n"
   ]
  },
  {
   "cell_type": "code",
   "execution_count": null,
   "metadata": {},
   "outputs": [],
   "source": [
    "# upload cleanpollution14-2016.csv\n",
    "file = \"dataset/cleanpollution14-2016.csv\"\n",
    "cleanpollution = pd.read_csv(file)\n",
    "cleanpollution.count()\n"
   ]
  },
  {
   "cell_type": "code",
   "execution_count": null,
   "metadata": {},
   "outputs": [],
   "source": [
    "# Convert Date Local to datetime\n",
    "cleanpollution['Date Local'] = pd.to_datetime(cleanpollution['Date Local'], infer_datetime_format=True)\n",
    "cleanpollution.head()"
   ]
  },
  {
   "cell_type": "code",
   "execution_count": null,
   "metadata": {},
   "outputs": [],
   "source": [
    "# Averaging pollution data on weekly basis\n",
    "cleanpollution = cleanpollution.groupby(['State', pd.Grouper(key='Date Local', freq='W-MON')]) \\\n",
    "       .mean() \\\n",
    "       .reset_index() \\\n",
    "       .sort_values('Date Local')\n",
    "cleanpollution"
   ]
  },
  {
   "cell_type": "code",
   "execution_count": null,
   "metadata": {},
   "outputs": [],
   "source": []
  },
  {
   "cell_type": "code",
   "execution_count": null,
   "metadata": {},
   "outputs": [],
   "source": [
    "#Clean the gas price csv\n",
    "gasfile = \"dataset/gasprices.csv\""
   ]
  },
  {
   "cell_type": "code",
   "execution_count": null,
   "metadata": {},
   "outputs": [],
   "source": [
    "gasdata = pd.read_csv(gasfile)\n",
    "gasdata"
   ]
  },
  {
   "cell_type": "code",
   "execution_count": null,
   "metadata": {},
   "outputs": [],
   "source": [
    "#Grabbing the rows I want\n",
    "gasdata.columns"
   ]
  },
  {
   "cell_type": "code",
   "execution_count": null,
   "metadata": {},
   "outputs": [],
   "source": [
    "gasdata_reduced = gasdata.loc[:,['Date', 'A2']]\n",
    "gasdata_reduced.head()"
   ]
  },
  {
   "cell_type": "code",
   "execution_count": null,
   "metadata": {},
   "outputs": [],
   "source": [
    "gasdata_reduced = gasdata_reduced.rename(columns={\"A2\":\"Gas Prices\"}) \n",
    "gasdata_reduced.head()"
   ]
  },
  {
   "cell_type": "code",
   "execution_count": null,
   "metadata": {},
   "outputs": [],
   "source": []
  },
  {
   "cell_type": "code",
   "execution_count": null,
   "metadata": {},
   "outputs": [],
   "source": [
    "gasdata_reduced.count()"
   ]
  },
  {
   "cell_type": "code",
   "execution_count": null,
   "metadata": {},
   "outputs": [],
   "source": []
  },
  {
   "cell_type": "code",
   "execution_count": null,
   "metadata": {},
   "outputs": [],
   "source": [
    "# convert Date to datetime\n",
    "gasdata_reduced['Date'] = pd.to_datetime(gasdata_reduced['Date'])\n",
    "print(gasdata_reduced)"
   ]
  },
  {
   "cell_type": "code",
   "execution_count": null,
   "metadata": {},
   "outputs": [],
   "source": [
    "# Rename Date to Date Local to create a similar key variable for merging pollution and gas files\n",
    "gasdata_reduced.rename(columns={'Date': 'Date Local'}, inplace=True)\n",
    "print(gasdata_reduced)"
   ]
  },
  {
   "cell_type": "code",
   "execution_count": null,
   "metadata": {
    "scrolled": true
   },
   "outputs": [],
   "source": [
    "# merge weekly pollution and gas data\n",
    "combinedfiles = pd.merge(left=cleanpollution, right=gasdata_reduced, left_on='Date Local', right_on='Date Local')\n",
    "combinedfiles"
   ]
  },
  {
   "cell_type": "code",
   "execution_count": null,
   "metadata": {},
   "outputs": [],
   "source": []
  },
  {
   "cell_type": "code",
   "execution_count": null,
   "metadata": {},
   "outputs": [],
   "source": []
  },
  {
   "cell_type": "code",
   "execution_count": null,
   "metadata": {},
   "outputs": [],
   "source": []
  },
  {
   "cell_type": "code",
   "execution_count": null,
   "metadata": {},
   "outputs": [],
   "source": []
  },
  {
   "cell_type": "code",
   "execution_count": null,
   "metadata": {},
   "outputs": [],
   "source": []
  },
  {
   "cell_type": "code",
   "execution_count": null,
   "metadata": {},
   "outputs": [],
   "source": [
    "#Regression (Simmy/Nate)"
   ]
  },
  {
   "cell_type": "code",
   "execution_count": null,
   "metadata": {},
   "outputs": [],
   "source": [
    "#Get Data For Each State 'Califorina', 'Texas', 'Florida','New Jersey','Illinois', 'Colorado', 'North Carolina'\n",
    "StateSubset=combinedfiles[combinedfiles[\"State\"].isin(state_list)]"
   ]
  },
  {
   "cell_type": "code",
   "execution_count": null,
   "metadata": {},
   "outputs": [],
   "source": []
  },
  {
   "cell_type": "code",
   "execution_count": null,
   "metadata": {},
   "outputs": [],
   "source": [
    "#We only want the date with all states represented\n",
    "Datesorted=StateSubset.groupby([\"Date Local\"]).count()\n",
    "Datesorted=Datesorted[Datesorted[\"State\"]==7]\n",
    "testabledates=Datesorted.index\n",
    "testabledates\n",
    "#testabledates are all the dates which have 7 entries (which are all the states)"
   ]
  },
  {
   "cell_type": "code",
   "execution_count": null,
   "metadata": {
    "scrolled": true
   },
   "outputs": [],
   "source": [
    "#Now sum the results for all states and group by the dates. Only include dates in testabledates\n",
    "TotalStates=StateSubset[StateSubset[\"Date Local\"].isin(testabledates)]\n",
    "TotalStates=TotalStates.groupby(\"Date Local\").sum()\n",
    "TotalStates[\"Gas Prices\"]=TotalStates[\"Gas Prices\"]/7\n",
    "#We divide \"Gas Prices\" by 7 since we summed it 7 times.\n",
    "TotalStates"
   ]
  },
  {
   "cell_type": "code",
   "execution_count": null,
   "metadata": {},
   "outputs": [],
   "source": [
    "#We can also look at Individual States\n",
    "CombinedStates=StateSubset.groupby([\"State\", \"Date Local\"]).sum()\n",
    "CombinedStates"
   ]
  },
  {
   "cell_type": "code",
   "execution_count": null,
   "metadata": {},
   "outputs": [],
   "source": [
    "#NO2 For every state\n",
    "for state in state_list:\n",
    "    statedata=CombinedStates.loc[state]\n",
    "    x_values = statedata['Gas Prices']\n",
    "    y_values = statedata['NO2 Mean']\n",
    "    (slope, intercept, rvalue, pvalue, stderr) = linregress(x_values, y_values)\n",
    "    regress_values = x_values * slope + intercept\n",
    "    line_eq = \"y = \" + str(round(slope,2)) + \"x + \" + str(round(intercept,2))\n",
    "    plt.scatter(x_values,y_values)\n",
    "    plt.plot(x_values,regress_values,\"r-\")\n",
    "    plt.annotate(line_eq,(2,max(y_values)*0.9),fontsize=15,color=\"red\")\n",
    "    plt.xlabel('Gas Price ($)')\n",
    "    plt.ylabel('NO2 Emission')\n",
    "    plt.title(f\"NO2 Emission by Gas Price for {state}\")\n",
    "    plt.savefig(f'Regression Output/States/{state}/NO2{state}.png')\n",
    "    plt.show()"
   ]
  },
  {
   "cell_type": "code",
   "execution_count": null,
   "metadata": {},
   "outputs": [],
   "source": [
    "#SO2 For every state\n",
    "for state in state_list:\n",
    "    statedata=CombinedStates.loc[state]\n",
    "    x_values = statedata['Gas Prices']\n",
    "    y_values = statedata['SO2 Mean']\n",
    "    (slope, intercept, rvalue, pvalue, stderr) = linregress(x_values, y_values)\n",
    "    regress_values = x_values * slope + intercept\n",
    "    line_eq = \"y = \" + str(round(slope,2)) + \"x + \" + str(round(intercept,2))\n",
    "    plt.scatter(x_values,y_values)\n",
    "    plt.plot(x_values,regress_values,\"r-\")\n",
    "    plt.annotate(line_eq,(2,max(y_values)*0.9),fontsize=15,color=\"red\")\n",
    "    plt.xlabel('Gas Price ($)')\n",
    "    plt.ylabel('SO2 Emission')\n",
    "    plt.title(f\"SO2 Emission by Gas Price for {state}\")\n",
    "    plt.savefig(f'Regression Output/States/{state}/SO2{state}.png')\n",
    "    plt.show()"
   ]
  },
  {
   "cell_type": "code",
   "execution_count": null,
   "metadata": {},
   "outputs": [],
   "source": [
    "#O3 For every state\n",
    "for state in state_list:\n",
    "    statedata=CombinedStates.loc[state]\n",
    "    x_values = statedata['Gas Prices']\n",
    "    y_values = statedata['O3 Mean']*100\n",
    "    (slope, intercept, rvalue, pvalue, stderr) = linregress(x_values, y_values)\n",
    "    regress_values = x_values * slope + intercept\n",
    "    line_eq = \"y = \" + str(round(slope,2)) + \"x + \" + str(round(intercept,2))\n",
    "    plt.scatter(x_values,y_values)\n",
    "    plt.plot(x_values,regress_values,\"r-\")\n",
    "    plt.annotate(line_eq,(2,max(y_values)*0.9),fontsize=15,color=\"red\")\n",
    "    plt.xlabel('Gas Price ($)')\n",
    "    plt.ylabel('O3 Emission (X100)')\n",
    "    plt.title(f\"O3 Emission by Gas Price for {state}\")\n",
    "    plt.savefig(f'Regression Output/States/{state}/O3{state}.png')\n",
    "    plt.show()"
   ]
  },
  {
   "cell_type": "code",
   "execution_count": null,
   "metadata": {},
   "outputs": [],
   "source": [
    "#CO For every state\n",
    "for state in state_list:\n",
    "    statedata=CombinedStates.loc[state]\n",
    "    x_values = statedata['Gas Prices']\n",
    "    y_values = statedata['CO Mean']*10\n",
    "    (slope, intercept, rvalue, pvalue, stderr) = linregress(x_values, y_values)\n",
    "    regress_values = x_values * slope + intercept\n",
    "    line_eq = \"y = \" + str(round(slope,2)) + \"x + \" + str(round(intercept,2))\n",
    "    plt.scatter(x_values,y_values)\n",
    "    plt.plot(x_values,regress_values,\"r-\")\n",
    "    plt.annotate(line_eq,(2,max(y_values)*0.9),fontsize=15,color=\"red\")\n",
    "    plt.xlabel('Gas Price ($)')\n",
    "    plt.ylabel('CO Emission (X10)')\n",
    "    plt.title(f\"CO Emission by Gas Price for {state}\")\n",
    "    plt.savefig(f'Regression Output/States/{state}/CO{state}.png')\n",
    "    plt.show()"
   ]
  },
  {
   "cell_type": "code",
   "execution_count": null,
   "metadata": {},
   "outputs": [],
   "source": [
    "x_values = TotalStates['Gas Prices']\n",
    "y_values = TotalStates['NO2 Mean']\n",
    "(slope, intercept, rvalue, pvalue, stderr) = linregress(x_values, y_values)\n",
    "regress_values = x_values * slope + intercept\n",
    "line_eq = \"y = \" + str(round(slope,2)) + \"x + \" + str(round(intercept,2))\n",
    "plt.scatter(x_values,y_values)\n",
    "plt.plot(x_values,regress_values,\"r-\")\n",
    "plt.annotate(line_eq,(2,40),fontsize=15,color=\"red\")\n",
    "plt.xlabel('Gas Price ($)')\n",
    "plt.ylabel('NO2 Emission')\n",
    "plt.title(\"NO2 Emission by Gas Price for Combined States\")\n",
    "plt.savefig('Regression Output/NO2Total.png')\n",
    "plt.show()"
   ]
  },
  {
   "cell_type": "code",
   "execution_count": null,
   "metadata": {},
   "outputs": [],
   "source": [
    "x_values = TotalStates['Gas Prices']\n",
    "y_values = TotalStates['SO2 Mean']\n",
    "(slope, intercept, rvalue, pvalue, stderr) = linregress(x_values, y_values)\n",
    "regress_values = x_values * slope + intercept\n",
    "line_eq = \"y = \" + str(round(slope,2)) + \"x + \" + str(round(intercept,2))\n",
    "plt.scatter(x_values,y_values)\n",
    "plt.plot(x_values,regress_values,\"r-\")\n",
    "plt.annotate(line_eq,(2,2),fontsize=15,color=\"red\")\n",
    "plt.xlabel('Gas Price ($)')\n",
    "plt.ylabel('SO2 Emission')\n",
    "plt.title(\"SO2 Emission by Gas Price for Combined States\")\n",
    "plt.savefig('Regression Output/SO2Total.png')\n",
    "plt.show()"
   ]
  },
  {
   "cell_type": "code",
   "execution_count": null,
   "metadata": {},
   "outputs": [],
   "source": [
    "x_values = TotalStates['Gas Prices']\n",
    "y_values = TotalStates['O3 Mean']*100\n",
    "(slope, intercept, rvalue, pvalue, stderr) = linregress(x_values, y_values)\n",
    "regress_values = x_values * slope + intercept\n",
    "line_eq = \"y = \" + str(round(slope,2)) + \"x + \" + str(round(intercept,2))\n",
    "plt.scatter(x_values,y_values)\n",
    "plt.plot(x_values,regress_values,\"r-\")\n",
    "plt.annotate(line_eq,(2,25),fontsize=15,color=\"red\")\n",
    "plt.xlabel('Gas Price ($)')\n",
    "plt.ylabel('O3 Emission (X100)')\n",
    "plt.title(\"O3 Emission by Gas Price for Combined States\")\n",
    "plt.savefig('Regression Output/O3Total.png')\n",
    "plt.show()"
   ]
  },
  {
   "cell_type": "code",
   "execution_count": null,
   "metadata": {},
   "outputs": [],
   "source": [
    "x_values = TotalStates['Gas Prices']\n",
    "y_values = TotalStates['CO Mean']*10\n",
    "(slope, intercept, rvalue, pvalue, stderr) = linregress(x_values, y_values)\n",
    "regress_values = x_values * slope + intercept\n",
    "line_eq = \"y = \" + str(round(slope,2)) + \"x + \" + str(round(intercept,2))\n",
    "plt.scatter(x_values,y_values)\n",
    "plt.plot(x_values,regress_values,\"r-\")\n",
    "plt.annotate(line_eq,(2,15),fontsize=15,color=\"red\")\n",
    "plt.xlabel('Gas Price ($)')\n",
    "plt.ylabel('CO Emission (X10)')\n",
    "plt.title(\"CO Emission by Gas Price for Combined States\")\n",
    "plt.savefig('Regression Output/COTotal.png')\n",
    "plt.show()"
   ]
  },
  {
   "cell_type": "code",
   "execution_count": null,
   "metadata": {},
   "outputs": [],
   "source": [
    "#Hypothesis Testing (Nate)"
   ]
  },
  {
   "cell_type": "code",
   "execution_count": null,
   "metadata": {},
   "outputs": [],
   "source": [
    "#Sort TotalStates by Gas Prices, group by High, Middle, and Low\n",
    "sortedTotalStates=TotalStates.sort_values(by=[\"Gas Prices\"])\n",
    "dflength=len(sortedTotalStates[\"Gas Prices\"])\n",
    "low=sortedTotalStates.iloc[0:int(dflength/3),:]\n",
    "middle=sortedTotalStates.iloc[int(dflength/3):int(2*dflength/3),:]\n",
    "high=sortedTotalStates.iloc[int(2*dflength/3):,:]"
   ]
  },
  {
   "cell_type": "code",
   "execution_count": null,
   "metadata": {},
   "outputs": [],
   "source": [
    "p_value=stats.ttest_ind(low[\"NO2 Mean\"], high[\"NO2 Mean\"], equal_var=False)[1]\n",
    "print(f\"The p value for NO2 is {p_value}\")\n",
    "p_value=stats.ttest_ind(low[\"O3 Mean\"], high[\"O3 Mean\"], equal_var=False)[1]\n",
    "print(f\"The p value for O3 is {p_value}\")\n",
    "p_value=stats.ttest_ind(low[\"SO2 Mean\"], high[\"SO2 Mean\"], equal_var=False)[1]\n",
    "print(f\"The p value for SO2 is {p_value}\")\n",
    "p_value=stats.ttest_ind(low[\"CO Mean\"], high[\"CO Mean\"], equal_var=False)[1]\n",
    "print(f\"The p value for CO is {p_value}\")"
   ]
  },
  {
   "cell_type": "code",
   "execution_count": null,
   "metadata": {},
   "outputs": [],
   "source": [
    "#charts (simmy)\n"
   ]
  },
  {
   "cell_type": "code",
   "execution_count": null,
   "metadata": {},
   "outputs": [],
   "source": [
    "CaliforniaNO2 = CombinedStates.loc[\"California\"][\"NO2 Mean\"].sum()\n",
    "COLORADONO2 = CombinedStates.loc[\"Colorado\"][\"NO2 Mean\"].sum()\n",
    "TexasNO2 = CombinedStates.loc[\"Texas\"][\"NO2 Mean\"].sum()\n",
    "NewJerseyNO2= CombinedStates.loc[\"New Jersey\"][\"NO2 Mean\"].sum()\n",
    "IllinoisNO2= CombinedStates.loc[\"Illinois\"][\"NO2 Mean\"].sum()\n",
    "FloridaNO2= CombinedStates.loc[\"Florida\"][\"NO2 Mean\"].sum()\n",
    "NorthCarolinaNO2= CombinedStates.loc[\"North Carolina\"][\"NO2 Mean\"].sum()\n",
    "NorthCarolinaNO2"
   ]
  },
  {
   "cell_type": "code",
   "execution_count": null,
   "metadata": {},
   "outputs": [],
   "source": [
    "# Labels for the sections of our pie chart \n",
    "labels = ['California', 'Texas', 'Florida','New Jersey','Illinois', 'Colorado', 'North Carolina']\n",
    "\n",
    "# The values of each section of the pie chart\n",
    "sizes = [CaliforniaNO2,TexasNO2,FloridaNO2,NewJerseyNO2,IllinoisNO2,COLORADONO2,NorthCarolinaNO2]\n",
    "\n",
    "#The colors of each section of the pie chart\n",
    "colors = [\"red\", \"orange\", \"gray\", \"green\",\"yellow\",\"lavender\",\"lightskyblue\"]\n",
    "\n",
    "#Tells matplotlib to seperate the section from the others \n",
    "explode = (0,0,0,0,0,0.1,0)"
   ]
  },
  {
   "cell_type": "code",
   "execution_count": null,
   "metadata": {},
   "outputs": [],
   "source": [
    "# Creates the pie chart based upon the values above\n",
    "# Automatically finds the percentages of each part of the pie chart\n",
    "plt.pie(sizes, explode=explode, labels=labels, colors=colors,        \n",
    "        autopct=\"%1.1f%%\", shadow=True, startangle=140) \n",
    "plt.title(\"NO2 Mean by State\")"
   ]
  },
  {
   "cell_type": "code",
   "execution_count": null,
   "metadata": {},
   "outputs": [],
   "source": [
    "CaliforniaO3 = CombinedStates.loc[\"California\"][\"O3 Mean\"].sum()\n",
    "COLORADOO3 = CombinedStates.loc[\"Colorado\"][\"O3 Mean\"].sum()\n",
    "TexasO3 = CombinedStates.loc[\"Texas\"][\"O3 Mean\"].sum()\n",
    "NewJerseyO3= CombinedStates.loc[\"New Jersey\"][\"O3 Mean\"].sum()\n",
    "IllinoisO3= CombinedStates.loc[\"Illinois\"][\"O3 Mean\"].sum()\n",
    "FloridaO3= CombinedStates.loc[\"Florida\"][\"O3 Mean\"].sum()\n",
    "NorthCarolinaO3= CombinedStates.loc[\"North Carolina\"][\"O3 Mean\"].sum()\n",
    "\n",
    "# Labels for the sections of our pie chart \n",
    "labels = ['California', 'Texas', 'Florida','New Jersey','Illinois', 'Colorado', 'North Carolina']\n",
    "\n",
    "# The values of each section of the pie chart\n",
    "sizes = [CaliforniaO3,TexasO3,FloridaO3,NewJerseyO3,IllinoisO3,COLORADOO3,NorthCarolinaO3]\n",
    "\n",
    "#The colors of each section of the pie chart\n",
    "colors = [\"red\", \"orange\", \"gray\", \"green\",\"yellow\",\"lavender\",\"lightskyblue\"]\n",
    "\n",
    "#Tells matplotlib to seperate the section from the others \n",
    "explode = (0,0,0,0,0,0,0.1)\n",
    "\n",
    "# Creates the pie chart based upon the values above\n",
    "# Automatically finds the percentages of each part of the pie chart\n",
    "plt.pie(sizes, explode=explode, labels=labels, colors=colors,        \n",
    "        autopct=\"%1.1f%%\", shadow=True, startangle=140) \n",
    "plt.title(\"O3 Mean by State\")\n",
    "\n"
   ]
  },
  {
   "cell_type": "code",
   "execution_count": null,
   "metadata": {},
   "outputs": [],
   "source": [
    "CaliforniaSO2 = CombinedStates.loc[\"California\"][\"SO2 Mean\"].sum()\n",
    "COLORADOSO2 = CombinedStates.loc[\"Colorado\"][\"SO2 Mean\"].sum()\n",
    "TexasSO2 = CombinedStates.loc[\"Texas\"][\"SO2 Mean\"].sum()\n",
    "NewJerseySO2= CombinedStates.loc[\"New Jersey\"][\"SO2 Mean\"].sum()\n",
    "IllinoisSO2= CombinedStates.loc[\"Illinois\"][\"SO2 Mean\"].sum()\n",
    "FloridaSO2= CombinedStates.loc[\"Florida\"][\"SO2 Mean\"].sum()\n",
    "NorthCarolinaSO2= CombinedStates.loc[\"North Carolina\"][\"SO2 Mean\"].sum()\n",
    "\n",
    "# Labels for the sections of our pie chart \n",
    "labels = ['California', 'Texas', 'Florida','New Jersey','Illinois', 'Colorado', 'North Carolina']\n",
    "\n",
    "# The values of each section of the pie chart\n",
    "sizes = [CaliforniaSO2,TexasSO2,FloridaSO2,NewJerseySO2,IllinoisSO2,COLORADOSO2,NorthCarolinaSO2]\n",
    "\n",
    "#The colors of each section of the pie chart\n",
    "colors = [\"red\", \"orange\", \"gray\", \"green\",\"yellow\",\"lavender\",\"lightskyblue\"]\n",
    "\n",
    "#Tells matplotlib to seperate the section from the others \n",
    "explode = (0,0,0,0,0,0.1,0)\n",
    "\n",
    "# Creates the pie chart based upon the values above\n",
    "# Automatically finds the percentages of each part of the pie chart\n",
    "plt.pie(sizes, explode=explode, labels=labels, colors=colors,        \n",
    "        autopct=\"%1.1f%%\", shadow=True, startangle=140) \n",
    "plt.title(\"SO2 Mean by State\")"
   ]
  },
  {
   "cell_type": "code",
   "execution_count": null,
   "metadata": {},
   "outputs": [],
   "source": [
    "CaliforniaCO = CombinedStates.loc[\"California\"][\"CO Mean\"].sum()\n",
    "COLORADOCO = CombinedStates.loc[\"Colorado\"][\"CO Mean\"].sum()\n",
    "TexasCO = CombinedStates.loc[\"Texas\"][\"CO Mean\"].sum()\n",
    "NewJerseyCO= CombinedStates.loc[\"New Jersey\"][\"CO Mean\"].sum()\n",
    "IllinoisCO= CombinedStates.loc[\"Illinois\"][\"CO Mean\"].sum()\n",
    "FloridaCO= CombinedStates.loc[\"Florida\"][\"CO Mean\"].sum()\n",
    "NorthCarolinaCO= CombinedStates.loc[\"North Carolina\"][\"CO Mean\"].sum()\n",
    "\n",
    "# Labels for the sections of our pie chart \n",
    "labels = ['California', 'Texas', 'Florida','New Jersey','Illinois', 'Colorado', 'North Carolina']\n",
    "\n",
    "# The values of each section of the pie chart\n",
    "sizes = [CaliforniaCO,TexasCO,FloridaCO,NewJerseyCO,IllinoisCO,COLORADOCO,NorthCarolinaCO]\n",
    "\n",
    "#The colors of each section of the pie chart\n",
    "colors = [\"red\", \"orange\", \"gray\", \"green\",\"yellow\",\"lavender\",\"lightskyblue\"]\n",
    "\n",
    "#Tells matplotlib to seperate the section from the others \n",
    "explode = (0,0,0.1,0,0,0,0)\n",
    "\n",
    "# Creates the pie chart based upon the values above\n",
    "# Automatically finds the percentages of each part of the pie chart\n",
    "plt.pie(sizes, explode=explode, labels=labels, colors=colors,        \n",
    "        autopct=\"%1.1f%%\", shadow=True, startangle=140) \n",
    "plt.title(\"CO Mean by State\")"
   ]
  },
  {
   "cell_type": "code",
   "execution_count": null,
   "metadata": {},
   "outputs": [],
   "source": [
    " # The maximum x value for our chart will be 100\n",
    "x_limit = 100\n",
    "TotalStates \n",
    "# List of values from 0 to 100 each value being 1 greater than the last\n",
    "x_axis = TotalStates.index\n",
    "y_axis = TotalStates[\"NO2 Mean\"]\n",
    "TotalStates\n",
    "\n",
    "# Create a random array of data that we will use for our y values\n",
    "#data = [random.random() for value in x_axis]"
   ]
  },
  {
   "cell_type": "code",
   "execution_count": null,
   "metadata": {},
   "outputs": [],
   "source": [
    "# Tells matplotlib that we want to make a scatter plot\n",
    "# The size of each point on our plot is determined by their x value\n",
    "plt.scatter(x_axis, y_axis, marker=\"o\", facecolors=\"red\", edgecolors=\"black\",\n",
    "             alpha=0.75)\n",
    "plt.title(\"NO2 Mean by Date\")\n",
    "plt.ylabel(\"Emission parts by Billion\")\n",
    "plt.xlabel(\"Date\")\n",
    "plt.xticks(rotation=45)"
   ]
  },
  {
   "cell_type": "code",
   "execution_count": null,
   "metadata": {},
   "outputs": [],
   "source": [
    "TotalStates.index"
   ]
  },
  {
   "cell_type": "code",
   "execution_count": null,
   "metadata": {},
   "outputs": [],
   "source": [
    " # The maximum x value for our chart will be 100\n",
    "x_limit = 100\n",
    "TotalStates \n",
    "# List of values from 0 to 100 each value being 1 greater than the last\n",
    "x_axis = TotalStates.index\n",
    "y_axis = TotalStates[\"O3 Mean\"]\n",
    "TotalStates\n",
    "\n",
    "# Create a random array of data that we will use for our y values\n",
    "#data = [random.random() for value in x_axis]\n",
    "\n",
    "# Tells matplotlib that we want to make a scatter plot\n",
    "# The size of each point on our plot is determined by their x value\n",
    "plt.scatter(x_axis, y_axis, marker=\"o\", facecolors=\"red\", edgecolors=\"black\",\n",
    "             alpha=0.75)\n",
    "plt.title(\"O3 Mean by Date\")\n",
    "plt.ylabel(\"Emission parts by Million\")\n",
    "plt.xlabel(\"Date\")\n",
    "plt.xticks(rotation=45)\n"
   ]
  },
  {
   "cell_type": "code",
   "execution_count": null,
   "metadata": {},
   "outputs": [],
   "source": [
    " # The maximum x value for our chart will be 100\n",
    "x_limit = 100\n",
    "TotalStates \n",
    "# List of values from 0 to 100 each value being 1 greater than the last\n",
    "x_axis = TotalStates.index\n",
    "y_axis = TotalStates[\"SO2 Mean\"]\n",
    "TotalStates\n",
    "\n",
    "# Create a random array of data that we will use for our y values\n",
    "#data = [random.random() for value in x_axis]\n",
    "\n",
    "# Tells matplotlib that we want to make a scatter plot\n",
    "# The size of each point on our plot is determined by their x value\n",
    "plt.scatter(x_axis, y_axis, marker=\"o\", facecolors=\"red\", edgecolors=\"black\",\n",
    "             alpha=0.75)\n",
    "plt.title(\"SO2 Mean by Date\")\n",
    "plt.ylabel(\"Emission parts by Billion\")\n",
    "plt.xlabel(\"Date\")\n",
    "plt.xticks(rotation=45)"
   ]
  },
  {
   "cell_type": "code",
   "execution_count": null,
   "metadata": {},
   "outputs": [],
   "source": [
    " # The maximum x value for our chart will be 100\n",
    "x_limit = 100\n",
    "TotalStates \n",
    "# List of values from 0 to 100 each value being 1 greater than the last\n",
    "x_axis = TotalStates.index\n",
    "y_axis = TotalStates[\"CO Mean\"]\n",
    "\n",
    "# Create a random array of data that we will use for our y values\n",
    "#data = [random.random() for value in x_axis]\n",
    "\n",
    "# Tells matplotlib that we want to make a scatter plot\n",
    "# The size of each point on our plot is determined by their x value\n",
    "plt.scatter(x_axis, y_axis, marker=\"o\", facecolors=\"red\", edgecolors=\"black\",\n",
    "             alpha=0.75)\n",
    "plt.title(\"CO Mean by Date\")\n",
    "plt.ylabel(\"Emission parts by Million\")\n",
    "plt.xlabel(\"Date\")\n",
    "plt.xticks(rotation=45)"
   ]
  }
 ],
 "metadata": {
  "kernelspec": {
   "display_name": "Python 3",
   "language": "python",
   "name": "python3"
  },
  "language_info": {
   "codemirror_mode": {
    "name": "ipython",
    "version": 3
   },
   "file_extension": ".py",
   "mimetype": "text/x-python",
   "name": "python",
   "nbconvert_exporter": "python",
   "pygments_lexer": "ipython3",
   "version": "3.8.5"
  }
 },
 "nbformat": 4,
 "nbformat_minor": 4
}
